{
 "cells": [
  {
   "cell_type": "markdown",
   "metadata": {},
   "source": [
    "# QTM 385\n",
    "\n",
    "***\n",
    "\n",
    "## Homework 4\n",
    "\n",
    "Student: Mina Lee[2298297]"
   ]
  },
  {
   "cell_type": "markdown",
   "metadata": {},
   "source": [
    "In this homework, we will create an object called Student, that is useful for a professor to store information about a student."
   ]
  },
  {
   "cell_type": "markdown",
   "metadata": {},
   "source": [
    "\n",
    "***\n",
    "\n",
    "### Question 1\n",
    "\n",
    "Create a class Student, that has:\n",
    "\n",
    "0. Id number (5-digits integer, starting with 1)\n",
    "1. First Name (str)\n",
    "2. Last Name (str)\n",
    "3. Grades (list of floats)\n",
    "4. Credits (list of integers)\n",
    "5. Major (str)\n",
    "\n",
    "Provide a constructor for your class and create one fictitious student."
   ]
  },
  {
   "cell_type": "code",
   "execution_count": 9,
   "metadata": {},
   "outputs": [],
   "source": [
    "# Your answer here\n",
    "class Student:\n",
    "    # My constructor for the student class\n",
    "    def __init__(self, num, fnam, lnam, gr, cre, maj):\n",
    "        self.nubmer = num\n",
    "        self.first_name = fnam\n",
    "        self.last_name = lnam\n",
    "        self.grades = gr\n",
    "        self.credits = cre\n",
    "        self.major = maj\n",
    "\n",
    "        \n",
    "stu1 = Student(12327,'Mina','Lee',[92,90,88,98,100,86], [3,3,4,3,3,4], 'AMS')"
   ]
  },
  {
   "cell_type": "markdown",
   "metadata": {},
   "source": [
    "\n",
    "***\n",
    "\n",
    "### Question 2\n",
    "\n",
    "Create a method to nicely display the student when we type `print`. It should display, for example:\n",
    "\n",
    "```\n",
    "Student:\n",
    "    Id: 12345\n",
    "    Name: Mig, Umberto\n",
    "    Major: QSS\n",
    "```\n",
    "\n",
    "Create a method that, when a variable storing a student is typed in the console, displays:\n",
    "\n",
    "```\n",
    "Student(Mig, Umberto; 12345)\n",
    "```\n",
    "\n",
    "Provide some testing with a fictitious result of your choice."
   ]
  },
  {
   "cell_type": "code",
   "execution_count": 10,
   "metadata": {},
   "outputs": [],
   "source": [
    "# Your answer here\n",
    "class Student:    \n",
    "    # My constructor for the student class\n",
    "    def __init__(self, num, fnam, lnam, gr, cre, maj):\n",
    "        self.number = num\n",
    "        self.first_name = fnam\n",
    "        self.last_name = lnam\n",
    "        self.grades = gr\n",
    "        self.credits = cre\n",
    "        self.major = maj\n",
    "\n",
    "    def __str__(self):\n",
    "        stu_info = \"\"\"\n",
    "        student:\n",
    "            Id:{id1}\n",
    "            Name:{lname}, {fname}\n",
    "            Major:{major}\n",
    "        \"\"\".format(id1=self.number, lname=self.last_name, fname=self.first_name, major=self.major)\n",
    "        return stu_info\n",
    "    \n",
    "    def __repr__(self):\n",
    "        return \"Student({lname1}, {fname1}; {id2})\".format(lname1=self.last_name, fname1=self.first_name, id2=self.number)"
   ]
  },
  {
   "cell_type": "code",
   "execution_count": 11,
   "metadata": {},
   "outputs": [],
   "source": [
    "stu1 = Student(12327,'Mina','Lee',[92,90,88,98,100,86], [3,3,4,3,3,4], 'AMS')"
   ]
  },
  {
   "cell_type": "code",
   "execution_count": 12,
   "metadata": {},
   "outputs": [
    {
     "name": "stdout",
     "output_type": "stream",
     "text": [
      "\n",
      "        student:\n",
      "            Id:12327\n",
      "            Name:Lee, Mina\n",
      "            Major:AMS\n",
      "        \n"
     ]
    }
   ],
   "source": [
    "print(stu1)"
   ]
  },
  {
   "cell_type": "code",
   "execution_count": 13,
   "metadata": {},
   "outputs": [
    {
     "data": {
      "text/plain": [
       "Student(Lee, Mina; 12327)"
      ]
     },
     "execution_count": 13,
     "metadata": {},
     "output_type": "execute_result"
    }
   ],
   "source": [
    "stu1"
   ]
  },
  {
   "cell_type": "markdown",
   "metadata": {},
   "source": [
    "\n",
    "***\n",
    "\n",
    "### Question 3\n",
    "\n",
    "Implement class methods for:\n",
    "\n",
    "1. Check if the id number is valid (remember: 5 digits, starting with number one)\n",
    "2. Check if the grades list has the same length as the credits list. The idea is that every grade corresponds to a course that gave the student a certain amount of credits.\n",
    "3. Append grade and credit: given a grade, and credits attached to the grade, append both to each respective place.\n",
    "\n",
    "Test your function with a toy student of your choice."
   ]
  },
  {
   "cell_type": "code",
   "execution_count": 14,
   "metadata": {},
   "outputs": [],
   "source": [
    "# Your answer here\n",
    "class Student:    \n",
    "    # My constructor for the student class\n",
    "    def __init__(self, num, fnam, lnam, gr, cre, maj):\n",
    "        self.number = num\n",
    "        self.first_name = fnam\n",
    "        self.last_name = lnam\n",
    "        self.grades = gr\n",
    "        self.credits = cre\n",
    "        self.major = maj\n",
    "        \n",
    "    def id_check(self):\n",
    "        if self.number >= 10000 and self.number < 20000:\n",
    "            return'Yes,it is valid!'\n",
    "        else:\n",
    "            return'No,it is invalid!'\n",
    "        \n",
    "    def __eq__(self):\n",
    "        gr=0\n",
    "        cr=0\n",
    "        for i in self.grades:\n",
    "            gr += 1\n",
    "        for i in self.credits:\n",
    "            cr += 1\n",
    "        return gr == cr\n",
    "    \n",
    "    def append_grades_credits(self, gr, cre):\n",
    "        self.grades.append(gr)\n",
    "        self.credits.append(cre)\n",
    "        print('New lists of grades are' + str(self.grades) +'\\n New lists of credits are ' + str(self.credits))"
   ]
  },
  {
   "cell_type": "code",
   "execution_count": 24,
   "metadata": {},
   "outputs": [],
   "source": [
    "stu = Student(12327,'Mina','Lee',[92,90,88,98,100,86], [3,3,4,3,3,4], 'AMS')\n",
    "stu2 = Student (34980,'Jim','Park',[97,94,91], [3,4,4], 'EVNS')"
   ]
  },
  {
   "cell_type": "code",
   "execution_count": 25,
   "metadata": {},
   "outputs": [
    {
     "name": "stdout",
     "output_type": "stream",
     "text": [
      "No,it is invalid!\n"
     ]
    }
   ],
   "source": [
    "print(stu2.id_check())"
   ]
  },
  {
   "cell_type": "code",
   "execution_count": 26,
   "metadata": {},
   "outputs": [
    {
     "name": "stdout",
     "output_type": "stream",
     "text": [
      "True\n"
     ]
    }
   ],
   "source": [
    "print(stu.__eq__())"
   ]
  },
  {
   "cell_type": "code",
   "execution_count": 27,
   "metadata": {},
   "outputs": [
    {
     "name": "stdout",
     "output_type": "stream",
     "text": [
      "[92, 90, 88, 98, 100, 86]\n"
     ]
    }
   ],
   "source": [
    "print(stu.grades)"
   ]
  },
  {
   "cell_type": "code",
   "execution_count": 28,
   "metadata": {},
   "outputs": [
    {
     "name": "stdout",
     "output_type": "stream",
     "text": [
      "New lists of grades are[92, 90, 88, 98, 100, 86, 94]\n",
      " New lists of credits are [3, 3, 4, 3, 3, 4, 3]\n"
     ]
    }
   ],
   "source": [
    "stu.append_grades_credits(94,3)"
   ]
  },
  {
   "cell_type": "markdown",
   "metadata": {},
   "source": [
    "\n",
    "***\n",
    "\n",
    "### Question 4\n",
    "\n",
    "Create a module in the class Student that computes the unweighted average of the student's grades."
   ]
  },
  {
   "cell_type": "code",
   "execution_count": 4,
   "metadata": {},
   "outputs": [],
   "source": [
    "# Your answer here\n",
    "class Student:    \n",
    "    # My constructor for the student class\n",
    "    def __init__(self, num, fnam, lnam, gr, cre, maj):\n",
    "        self.number = num\n",
    "        self.first_name = fnam\n",
    "        self.last_name = lnam\n",
    "        self.grades = gr\n",
    "        self.credits = cre\n",
    "        self.major = maj\n",
    "\n",
    "    def unweighted_grades(self):\n",
    "        total = 0\n",
    "        gpa=[0 for i in range(len(self.credits))]\n",
    "        for i in range(0, len(self.grades)):\n",
    "            if self.grades[i] >=90:\n",
    "                gpa[i]=4.0\n",
    "            elif self.grades[i] >= 80:\n",
    "                gpa[i]=3.0\n",
    "            elif self.grades[i] >= 70:\n",
    "                gpa[i]=2.0\n",
    "            elif self.grades[i] >=60:\n",
    "                gpa[i]=1.0\n",
    "            else:\n",
    "                gpa[i]=0.0\n",
    "            total = total + gpa[i]\n",
    "        unwg = total/len(self.grades)\n",
    "        return unwg"
   ]
  },
  {
   "cell_type": "code",
   "execution_count": 5,
   "metadata": {},
   "outputs": [],
   "source": [
    "stu1 = Student(12327,'Mina','Lee',[92,90,88,98,100,86], [3,3,4,3,3,4], 'AMS')"
   ]
  },
  {
   "cell_type": "code",
   "execution_count": 6,
   "metadata": {},
   "outputs": [
    {
     "data": {
      "text/plain": [
       "3.6666666666666665"
      ]
     },
     "execution_count": 6,
     "metadata": {},
     "output_type": "execute_result"
    }
   ],
   "source": [
    "stu1.unweighted_grades()"
   ]
  },
  {
   "cell_type": "markdown",
   "metadata": {},
   "source": [
    "\n",
    "***\n",
    "\n",
    "### Question 5\n",
    "\n",
    "Create a module in the class Student that computes the weighted average of the student's grades, weighted by the credits."
   ]
  },
  {
   "cell_type": "code",
   "execution_count": 13,
   "metadata": {},
   "outputs": [],
   "source": [
    "# Your answer here\n",
    "class Student:    \n",
    "    # My constructor for the student class\n",
    "    def __init__(self, num, fnam, lnam, gr, cre, maj):\n",
    "        self.number = num\n",
    "        self.first_name = fnam\n",
    "        self.last_name = lnam\n",
    "        self.grades = gr\n",
    "        self.credits = cre\n",
    "        self.major = maj\n",
    "\n",
    "    def cumgpa(self):\n",
    "        if len(self.grades) == len(self.credits):\n",
    "            x=0\n",
    "            y=0\n",
    "            total=0\n",
    "            supposed=0\n",
    "            gpa=[0 for i in range(len(self.credits))]\n",
    "            for x in range(0, len(self.grades)):\n",
    "                if self.grades[x] >=90:\n",
    "                    gpa[x]=4.0\n",
    "                elif self.grades[x] >= 80:\n",
    "                    gpa[x]=3.0\n",
    "                elif self.grades[x] >= 70:\n",
    "                    gpa[x]=2.0\n",
    "                elif self.grades[x] >=60:\n",
    "                    gpa[x]=1.0\n",
    "                else:\n",
    "                    gpa[x]=0.0\n",
    "                total += gpa[x] * self.credits[y]\n",
    "            for y in range(0, len(self.credits)):\n",
    "                supposed += self.credits[y]\n",
    "            cum = total / supposed\n",
    "            return cum        "
   ]
  },
  {
   "cell_type": "code",
   "execution_count": 14,
   "metadata": {},
   "outputs": [],
   "source": [
    "stu1 = Student(12327,'Mina','Lee',[92,90,88,98,100,86], [3,3,4,3,3,4], 'AMS')"
   ]
  },
  {
   "cell_type": "code",
   "execution_count": 15,
   "metadata": {},
   "outputs": [
    {
     "data": {
      "text/plain": [
       "3.3"
      ]
     },
     "execution_count": 15,
     "metadata": {},
     "output_type": "execute_result"
    }
   ],
   "source": [
    "stu1.cumgpa()"
   ]
  },
  {
   "cell_type": "markdown",
   "metadata": {},
   "source": [
    "**That's all, folks!**"
   ]
  }
 ],
 "metadata": {
  "kernelspec": {
   "display_name": "Python 3",
   "language": "python",
   "name": "python3"
  },
  "language_info": {
   "codemirror_mode": {
    "name": "ipython",
    "version": 3
   },
   "file_extension": ".py",
   "mimetype": "text/x-python",
   "name": "python",
   "nbconvert_exporter": "python",
   "pygments_lexer": "ipython3",
   "version": "3.8.5"
  }
 },
 "nbformat": 4,
 "nbformat_minor": 4
}
